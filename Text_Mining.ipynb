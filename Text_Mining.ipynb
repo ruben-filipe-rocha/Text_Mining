{
 "cells": [
  {
   "cell_type": "code",
   "execution_count": 17,
   "metadata": {},
   "outputs": [],
   "source": [
    "import pandas as pd\n"
   ]
  },
  {
   "cell_type": "code",
   "execution_count": 18,
   "metadata": {},
   "outputs": [],
   "source": [
    "path = \"/Users/rubenfilipemartinsdarocha/Library/CloudStorage/GoogleDrive-rubenfilype@gmail.com/My Drive/Colab Notebooks/Data_Science/2.Semestre/01.Text_Mining/04.Trabalho/Datasets/Tweets_EN_sentiment_train.csv\"\n",
    "df = pd.read_csv(path)"
   ]
  },
  {
   "cell_type": "code",
   "execution_count": 19,
   "metadata": {},
   "outputs": [
    {
     "data": {
      "text/html": [
       "<div>\n",
       "<style scoped>\n",
       "    .dataframe tbody tr th:only-of-type {\n",
       "        vertical-align: middle;\n",
       "    }\n",
       "\n",
       "    .dataframe tbody tr th {\n",
       "        vertical-align: top;\n",
       "    }\n",
       "\n",
       "    .dataframe thead th {\n",
       "        text-align: right;\n",
       "    }\n",
       "</style>\n",
       "<table border=\"1\" class=\"dataframe\">\n",
       "  <thead>\n",
       "    <tr style=\"text-align: right;\">\n",
       "      <th></th>\n",
       "      <th>tweet</th>\n",
       "      <th>text</th>\n",
       "      <th>class</th>\n",
       "    </tr>\n",
       "  </thead>\n",
       "  <tbody>\n",
       "    <tr>\n",
       "      <th>0</th>\n",
       "      <td>1229448571</td>\n",
       "      <td>some count sheep, you count cats</td>\n",
       "      <td>pos</td>\n",
       "    </tr>\n",
       "    <tr>\n",
       "      <th>1</th>\n",
       "      <td>1230261573</td>\n",
       "      <td>We haven't been to Turning Stone in ages! Have...</td>\n",
       "      <td>pos</td>\n",
       "    </tr>\n",
       "    <tr>\n",
       "      <th>2</th>\n",
       "      <td>1228861415</td>\n",
       "      <td>What up</td>\n",
       "      <td>pos</td>\n",
       "    </tr>\n",
       "    <tr>\n",
       "      <th>3</th>\n",
       "      <td>1228489365</td>\n",
       "      <td>I'm good</td>\n",
       "      <td>pos</td>\n",
       "    </tr>\n",
       "    <tr>\n",
       "      <th>4</th>\n",
       "      <td>1229800235</td>\n",
       "      <td>I know, wonder if USER is going to buy an apar...</td>\n",
       "      <td>pos</td>\n",
       "    </tr>\n",
       "  </tbody>\n",
       "</table>\n",
       "</div>"
      ],
      "text/plain": [
       "        tweet                                               text class\n",
       "0  1229448571                  some count sheep, you count cats    pos\n",
       "1  1230261573  We haven't been to Turning Stone in ages! Have...   pos\n",
       "2  1228861415                                           What up    pos\n",
       "3  1228489365                                          I'm good    pos\n",
       "4  1229800235  I know, wonder if USER is going to buy an apar...   pos"
      ]
     },
     "execution_count": 19,
     "metadata": {},
     "output_type": "execute_result"
    }
   ],
   "source": [
    "df.head()"
   ]
  },
  {
   "cell_type": "code",
   "execution_count": 20,
   "metadata": {},
   "outputs": [
    {
     "name": "stdout",
     "output_type": "stream",
     "text": [
      "shape: (39936, 3)\n",
      "\n",
      "Coluna: tweet\n",
      "  Número de linhas: 39936\n",
      "  Valores em branco: 0\n",
      "  Tipo de dados: int64\n",
      "\n",
      "Coluna: text\n",
      "  Número de linhas: 39936\n",
      "  Valores em branco: 235\n",
      "  Tipo de dados: object\n",
      "\n",
      "Coluna: class\n",
      "  Número de linhas: 39936\n",
      "  Valores em branco: 0\n",
      "  Tipo de dados: object\n",
      "\n"
     ]
    }
   ],
   "source": [
    "colunas = df.columns.tolist()\n",
    "\n",
    "print(f\"shape: {df.shape}\\n\")\n",
    "\n",
    "for coluna in df.columns:\n",
    "    num_linhas = df[coluna].shape[0]  \n",
    "    valores_em_branco = df[coluna].isnull().sum()  \n",
    "    tipo_de_dados = df[coluna].dtype  \n",
    "    \n",
    "    print(f\"Coluna: {coluna}\")\n",
    "    print(f\"  Número de linhas: {num_linhas}\")\n",
    "    print(f\"  Valores em branco: {valores_em_branco}\")\n",
    "    print(f\"  Tipo de dados: {tipo_de_dados}\\n\")\n",
    "    \n",
    "\n"
   ]
  },
  {
   "cell_type": "code",
   "execution_count": 21,
   "metadata": {},
   "outputs": [
    {
     "name": "stdout",
     "output_type": "stream",
     "text": [
      "class\n",
      "pos    33065\n",
      "neg     6871\n",
      "Name: count, dtype: int64\n"
     ]
    }
   ],
   "source": [
    "# Distribuição das Classes\n",
    "\n",
    "print(df['class'].value_counts())\n"
   ]
  },
  {
   "cell_type": "code",
   "execution_count": 22,
   "metadata": {},
   "outputs": [
    {
     "data": {
      "text/html": [
       "<div>\n",
       "<style scoped>\n",
       "    .dataframe tbody tr th:only-of-type {\n",
       "        vertical-align: middle;\n",
       "    }\n",
       "\n",
       "    .dataframe tbody tr th {\n",
       "        vertical-align: top;\n",
       "    }\n",
       "\n",
       "    .dataframe thead th {\n",
       "        text-align: right;\n",
       "    }\n",
       "</style>\n",
       "<table border=\"1\" class=\"dataframe\">\n",
       "  <thead>\n",
       "    <tr style=\"text-align: right;\">\n",
       "      <th></th>\n",
       "      <th>tweet</th>\n",
       "      <th>text</th>\n",
       "      <th>class</th>\n",
       "    </tr>\n",
       "  </thead>\n",
       "  <tbody>\n",
       "    <tr>\n",
       "      <th>468</th>\n",
       "      <td>1229613877</td>\n",
       "      <td>NaN</td>\n",
       "      <td>neg</td>\n",
       "    </tr>\n",
       "    <tr>\n",
       "      <th>620</th>\n",
       "      <td>1229815502</td>\n",
       "      <td>NaN</td>\n",
       "      <td>pos</td>\n",
       "    </tr>\n",
       "    <tr>\n",
       "      <th>733</th>\n",
       "      <td>1228500852</td>\n",
       "      <td>NaN</td>\n",
       "      <td>pos</td>\n",
       "    </tr>\n",
       "    <tr>\n",
       "      <th>879</th>\n",
       "      <td>1229218078</td>\n",
       "      <td>NaN</td>\n",
       "      <td>neg</td>\n",
       "    </tr>\n",
       "    <tr>\n",
       "      <th>1060</th>\n",
       "      <td>1230727494</td>\n",
       "      <td>NaN</td>\n",
       "      <td>pos</td>\n",
       "    </tr>\n",
       "    <tr>\n",
       "      <th>...</th>\n",
       "      <td>...</td>\n",
       "      <td>...</td>\n",
       "      <td>...</td>\n",
       "    </tr>\n",
       "    <tr>\n",
       "      <th>39158</th>\n",
       "      <td>1229309579</td>\n",
       "      <td>NaN</td>\n",
       "      <td>neg</td>\n",
       "    </tr>\n",
       "    <tr>\n",
       "      <th>39227</th>\n",
       "      <td>1229027568</td>\n",
       "      <td>NaN</td>\n",
       "      <td>pos</td>\n",
       "    </tr>\n",
       "    <tr>\n",
       "      <th>39288</th>\n",
       "      <td>1224601475</td>\n",
       "      <td>NaN</td>\n",
       "      <td>neg</td>\n",
       "    </tr>\n",
       "    <tr>\n",
       "      <th>39362</th>\n",
       "      <td>1230226128</td>\n",
       "      <td>NaN</td>\n",
       "      <td>neg</td>\n",
       "    </tr>\n",
       "    <tr>\n",
       "      <th>39877</th>\n",
       "      <td>1230697072</td>\n",
       "      <td>NaN</td>\n",
       "      <td>neg</td>\n",
       "    </tr>\n",
       "  </tbody>\n",
       "</table>\n",
       "<p>235 rows × 3 columns</p>\n",
       "</div>"
      ],
      "text/plain": [
       "            tweet text class\n",
       "468    1229613877  NaN   neg\n",
       "620    1229815502  NaN   pos\n",
       "733    1228500852  NaN   pos\n",
       "879    1229218078  NaN   neg\n",
       "1060   1230727494  NaN   pos\n",
       "...           ...  ...   ...\n",
       "39158  1229309579  NaN   neg\n",
       "39227  1229027568  NaN   pos\n",
       "39288  1224601475  NaN   neg\n",
       "39362  1230226128  NaN   neg\n",
       "39877  1230697072  NaN   neg\n",
       "\n",
       "[235 rows x 3 columns]"
      ]
     },
     "execution_count": 22,
     "metadata": {},
     "output_type": "execute_result"
    }
   ],
   "source": [
    "valores_ausentes = df[df.isnull().any(axis=1)]\n",
    "valores_ausentes"
   ]
  },
  {
   "cell_type": "code",
   "execution_count": 29,
   "metadata": {},
   "outputs": [
    {
     "name": "stdout",
     "output_type": "stream",
     "text": [
      "Linhas com valores ausentes identificadas anteriormente:\n",
      "             tweet text class\n",
      "468    1229613877  NaN   neg\n",
      "620    1229815502  NaN   pos\n",
      "733    1228500852  NaN   pos\n",
      "879    1229218078  NaN   neg\n",
      "1060   1230727494  NaN   pos\n",
      "...           ...  ...   ...\n",
      "39158  1229309579  NaN   neg\n",
      "39227  1229027568  NaN   pos\n",
      "39288  1224601475  NaN   neg\n",
      "39362  1230226128  NaN   neg\n",
      "39877  1230697072  NaN   neg\n",
      "\n",
      "[235 rows x 3 columns]\n",
      "<class 'pandas.core.frame.DataFrame'>\n",
      "Index: 39697 entries, 0 to 39935\n",
      "Data columns (total 4 columns):\n",
      " #   Column    Non-Null Count  Dtype \n",
      "---  ------    --------------  ----- \n",
      " 0   tweet     39697 non-null  int64 \n",
      " 1   text      39697 non-null  object\n",
      " 2   class     39697 non-null  object\n",
      " 3   text_len  39697 non-null  int64 \n",
      "dtypes: int64(2), object(2)\n",
      "memory usage: 1.5+ MB\n",
      "\n",
      "DataFrame após limpeza:\n",
      " None\n"
     ]
    }
   ],
   "source": [
    "\n",
    "df_limpo = df_limpo.dropna()\n",
    "\n",
    "df_limpo['text'] = df_limpo['text'].astype(str).str.lower().str.strip()\n",
    "\n",
    "df_limpo = df_limpo[~df_limpo['text'].isin(['nan', 'NaN',' '])]\n",
    "\n",
    "print(\"Linhas com valores ausentes identificadas anteriormente:\\n\", valores_ausentes)\n",
    "print(\"\\nDataFrame após limpeza:\\n\", df_limpo.info())\n"
   ]
  },
  {
   "cell_type": "code",
   "execution_count": 23,
   "metadata": {},
   "outputs": [
    {
     "data": {
      "text/plain": [
       "235"
      ]
     },
     "execution_count": 23,
     "metadata": {},
     "output_type": "execute_result"
    }
   ],
   "source": [
    "num_valores_nan = df['text'].isnull().sum()\n",
    "num_valores_nan"
   ]
  },
  {
   "cell_type": "code",
   "execution_count": 24,
   "metadata": {},
   "outputs": [
    {
     "data": {
      "text/plain": [
       "39701"
      ]
     },
     "execution_count": 24,
     "metadata": {},
     "output_type": "execute_result"
    }
   ],
   "source": [
    "df_limpo = df.dropna(subset=['text'])\n",
    "len(df_limpo)"
   ]
  },
  {
   "cell_type": "code",
   "execution_count": 25,
   "metadata": {},
   "outputs": [
    {
     "data": {
      "text/html": [
       "<div>\n",
       "<style scoped>\n",
       "    .dataframe tbody tr th:only-of-type {\n",
       "        vertical-align: middle;\n",
       "    }\n",
       "\n",
       "    .dataframe tbody tr th {\n",
       "        vertical-align: top;\n",
       "    }\n",
       "\n",
       "    .dataframe thead th {\n",
       "        text-align: right;\n",
       "    }\n",
       "</style>\n",
       "<table border=\"1\" class=\"dataframe\">\n",
       "  <thead>\n",
       "    <tr style=\"text-align: right;\">\n",
       "      <th></th>\n",
       "      <th>tweet</th>\n",
       "      <th>text</th>\n",
       "      <th>class</th>\n",
       "    </tr>\n",
       "  </thead>\n",
       "  <tbody>\n",
       "    <tr>\n",
       "      <th>35339</th>\n",
       "      <td>1229561964</td>\n",
       "      <td>4</td>\n",
       "      <td>pos</td>\n",
       "    </tr>\n",
       "    <tr>\n",
       "      <th>39934</th>\n",
       "      <td>1228100681</td>\n",
       "      <td>404</td>\n",
       "      <td>neg</td>\n",
       "    </tr>\n",
       "  </tbody>\n",
       "</table>\n",
       "</div>"
      ],
      "text/plain": [
       "            tweet text class\n",
       "35339  1229561964    4   pos\n",
       "39934  1228100681  404   neg"
      ]
     },
     "execution_count": 25,
     "metadata": {},
     "output_type": "execute_result"
    }
   ],
   "source": [
    "# identificar\n",
    "\n",
    "df['text'] = df['text'].astype(str)\n",
    "df['text'] = df['text'].str.strip()\n",
    "\n",
    "df_apenas_numeros = df[df['text'].str.match('^\\d+$')]\n",
    "\n",
    "df_apenas_numeros"
   ]
  },
  {
   "cell_type": "code",
   "execution_count": 26,
   "metadata": {},
   "outputs": [
    {
     "data": {
      "text/plain": [
       "39934"
      ]
     },
     "execution_count": 26,
     "metadata": {},
     "output_type": "execute_result"
    }
   ],
   "source": [
    "indices_a_remover = df_apenas_numeros.index\n",
    "\n",
    "df_limpo = df.drop(indices_a_remover)\n",
    "\n",
    "len(df_limpo)"
   ]
  },
  {
   "cell_type": "code",
   "execution_count": 27,
   "metadata": {},
   "outputs": [
    {
     "data": {
      "text/html": [
       "<div>\n",
       "<style scoped>\n",
       "    .dataframe tbody tr th:only-of-type {\n",
       "        vertical-align: middle;\n",
       "    }\n",
       "\n",
       "    .dataframe tbody tr th {\n",
       "        vertical-align: top;\n",
       "    }\n",
       "\n",
       "    .dataframe thead th {\n",
       "        text-align: right;\n",
       "    }\n",
       "</style>\n",
       "<table border=\"1\" class=\"dataframe\">\n",
       "  <thead>\n",
       "    <tr style=\"text-align: right;\">\n",
       "      <th></th>\n",
       "      <th>tweet</th>\n",
       "      <th>text</th>\n",
       "      <th>class</th>\n",
       "    </tr>\n",
       "  </thead>\n",
       "  <tbody>\n",
       "    <tr>\n",
       "      <th>0</th>\n",
       "      <td>1229448571</td>\n",
       "      <td>some count sheep, you count cats</td>\n",
       "      <td>pos</td>\n",
       "    </tr>\n",
       "    <tr>\n",
       "      <th>1</th>\n",
       "      <td>1230261573</td>\n",
       "      <td>We haven't been to Turning Stone in ages! Have...</td>\n",
       "      <td>pos</td>\n",
       "    </tr>\n",
       "    <tr>\n",
       "      <th>2</th>\n",
       "      <td>1228861415</td>\n",
       "      <td>What up</td>\n",
       "      <td>pos</td>\n",
       "    </tr>\n",
       "    <tr>\n",
       "      <th>3</th>\n",
       "      <td>1228489365</td>\n",
       "      <td>I'm good</td>\n",
       "      <td>pos</td>\n",
       "    </tr>\n",
       "    <tr>\n",
       "      <th>4</th>\n",
       "      <td>1229800235</td>\n",
       "      <td>I know, wonder if USER is going to buy an apar...</td>\n",
       "      <td>pos</td>\n",
       "    </tr>\n",
       "    <tr>\n",
       "      <th>...</th>\n",
       "      <td>...</td>\n",
       "      <td>...</td>\n",
       "      <td>...</td>\n",
       "    </tr>\n",
       "    <tr>\n",
       "      <th>39930</th>\n",
       "      <td>1230446268</td>\n",
       "      <td>check,...</td>\n",
       "      <td>pos</td>\n",
       "    </tr>\n",
       "    <tr>\n",
       "      <th>39931</th>\n",
       "      <td>1230130325</td>\n",
       "      <td>LOL- F, please</td>\n",
       "      <td>pos</td>\n",
       "    </tr>\n",
       "    <tr>\n",
       "      <th>39932</th>\n",
       "      <td>1229250927</td>\n",
       "      <td>I wish I could do that too! But it ain't happe...</td>\n",
       "      <td>neg</td>\n",
       "    </tr>\n",
       "    <tr>\n",
       "      <th>39933</th>\n",
       "      <td>1228710021</td>\n",
       "      <td>I &amp;lt;3 my boyfriend's family.</td>\n",
       "      <td>pos</td>\n",
       "    </tr>\n",
       "    <tr>\n",
       "      <th>39935</th>\n",
       "      <td>1229022675</td>\n",
       "      <td>RT USER ok i can still tweet but admit i am a ...</td>\n",
       "      <td>pos</td>\n",
       "    </tr>\n",
       "  </tbody>\n",
       "</table>\n",
       "<p>39934 rows × 3 columns</p>\n",
       "</div>"
      ],
      "text/plain": [
       "            tweet                                               text class\n",
       "0      1229448571                   some count sheep, you count cats   pos\n",
       "1      1230261573  We haven't been to Turning Stone in ages! Have...   pos\n",
       "2      1228861415                                            What up   pos\n",
       "3      1228489365                                           I'm good   pos\n",
       "4      1229800235  I know, wonder if USER is going to buy an apar...   pos\n",
       "...           ...                                                ...   ...\n",
       "39930  1230446268                                          check,...   pos\n",
       "39931  1230130325                                     LOL- F, please   pos\n",
       "39932  1229250927  I wish I could do that too! But it ain't happe...   neg\n",
       "39933  1228710021                     I &lt;3 my boyfriend's family.   pos\n",
       "39935  1229022675  RT USER ok i can still tweet but admit i am a ...   pos\n",
       "\n",
       "[39934 rows x 3 columns]"
      ]
     },
     "execution_count": 27,
     "metadata": {},
     "output_type": "execute_result"
    }
   ],
   "source": [
    "df_limpo"
   ]
  },
  {
   "cell_type": "code",
   "execution_count": 28,
   "metadata": {},
   "outputs": [
    {
     "name": "stdout",
     "output_type": "stream",
     "text": [
      "            tweet text class  text_len\n",
      "25718  1230012286        pos         0\n",
      "37975  1222371193        pos         0\n",
      "2195   1229047396    ?   pos         1\n",
      "33383  1230101566    ?   neg         1\n",
      "12016  1229891566    -   pos         1\n",
      "36168  1229657995    -   pos         1\n",
      "9515   1229798429   np   pos         2\n",
      "27006  1229708222   a!   pos         2\n",
      "1725   1229309407   no   neg         2\n",
      "1817   1229659368   kk   pos         2\n",
      "19185  1229294308   ok   pos         2\n",
      "26726  1230359700   no   pos         2\n",
      "13350  1230416132   np   pos         2\n",
      "32264  1230086814   Hi   pos         2\n",
      "37033  1229179899   hi   pos         2\n",
      "32879  1230508155   ge   pos         2\n",
      "30899  1228858960   hi   pos         2\n",
      "32844  1229029942   np   pos         2\n",
      "29191  1231065278   Hi   pos         2\n",
      "28743  1229196530   hi   pos         2\n",
      "16418  1229878502   No   neg         2\n",
      "39107  1230430370   hi   pos         2\n",
      "36009  1231087172   gm   pos         2\n",
      "35412  1230745018   ty   pos         2\n",
      "21069  1230362256   :P   pos         2\n",
      "28477  1229070079   ??   pos         2\n",
      "33228  1230609050   hi   pos         2\n",
      "20694  1228955215   oi   pos         2\n",
      "20980  1229436881   is   pos         2\n",
      "11230  1228366532  BOO   neg         3\n",
      "31668  1229730914  URL   pos         3\n",
      "36893  1231130761  nan   neg         3\n",
      "2491   1229716286  nan   pos         3\n",
      "18007  1229142169  nan   pos         3\n",
      "2507   1231011265  URL   pos         3\n",
      "11293  1229795312  nan   neg         3\n",
      "11298  1230649832  nan   neg         3\n",
      "37324  1230048348  nan   neg         3\n",
      "417    1229205141  ???   pos         3\n",
      "25066  1229203635  boo   neg         3\n",
      "35576  1229568587  nan   pos         3\n",
      "34537  1229813714  nan   neg         3\n",
      "2567   1230407822  hoi   pos         3\n",
      "6125   1231298772  nan   pos         3\n",
      "29134  1230663430  nan   pos         3\n",
      "6099   1230235229  nan   pos         3\n",
      "29104  1230100961  nan   neg         3\n",
      "21704  1230283015  nan   pos         3\n",
      "35906  1230455048  nan   pos         3\n",
      "29082  1229528197  nan   pos         3\n"
     ]
    }
   ],
   "source": [
    "df_limpo['text_len'] = df_limpo['text'].apply(len)\n",
    "\n",
    "df_ordenado = df_limpo.sort_values(by='text_len')\n",
    "\n",
    "df_top50_menor_len = df_ordenado.head(50)\n",
    "\n",
    "print(df_top50_menor_len)\n"
   ]
  }
 ],
 "metadata": {
  "kernelspec": {
   "display_name": "Python 3",
   "language": "python",
   "name": "python3"
  },
  "language_info": {
   "codemirror_mode": {
    "name": "ipython",
    "version": 3
   },
   "file_extension": ".py",
   "mimetype": "text/x-python",
   "name": "python",
   "nbconvert_exporter": "python",
   "pygments_lexer": "ipython3",
   "version": "3.10.11"
  }
 },
 "nbformat": 4,
 "nbformat_minor": 2
}
