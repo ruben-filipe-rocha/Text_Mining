{
 "cells": [
  {
   "cell_type": "code",
   "execution_count": 28,
   "metadata": {},
   "outputs": [],
   "source": [
    "import pandas as pd\n"
   ]
  },
  {
   "cell_type": "code",
   "execution_count": 29,
   "metadata": {},
   "outputs": [],
   "source": [
    "path = \"Datasets/Tweets_EN_sentiment_train.csv\"\n",
    "df = pd.read_csv(path)"
   ]
  },
  {
   "cell_type": "code",
   "execution_count": 39,
   "metadata": {},
   "outputs": [
    {
     "data": {
      "text/html": [
       "<div>\n",
       "<style scoped>\n",
       "    .dataframe tbody tr th:only-of-type {\n",
       "        vertical-align: middle;\n",
       "    }\n",
       "\n",
       "    .dataframe tbody tr th {\n",
       "        vertical-align: top;\n",
       "    }\n",
       "\n",
       "    .dataframe thead th {\n",
       "        text-align: right;\n",
       "    }\n",
       "</style>\n",
       "<table border=\"1\" class=\"dataframe\">\n",
       "  <thead>\n",
       "    <tr style=\"text-align: right;\">\n",
       "      <th></th>\n",
       "      <th>tweet</th>\n",
       "      <th>text</th>\n",
       "      <th>class</th>\n",
       "    </tr>\n",
       "  </thead>\n",
       "  <tbody>\n",
       "    <tr>\n",
       "      <th>0</th>\n",
       "      <td>1229448571</td>\n",
       "      <td>some count sheep, you count cats</td>\n",
       "      <td>pos</td>\n",
       "    </tr>\n",
       "    <tr>\n",
       "      <th>1</th>\n",
       "      <td>1230261573</td>\n",
       "      <td>We haven't been to Turning Stone in ages! Have...</td>\n",
       "      <td>pos</td>\n",
       "    </tr>\n",
       "    <tr>\n",
       "      <th>2</th>\n",
       "      <td>1228861415</td>\n",
       "      <td>What up</td>\n",
       "      <td>pos</td>\n",
       "    </tr>\n",
       "    <tr>\n",
       "      <th>3</th>\n",
       "      <td>1228489365</td>\n",
       "      <td>I'm good</td>\n",
       "      <td>pos</td>\n",
       "    </tr>\n",
       "    <tr>\n",
       "      <th>4</th>\n",
       "      <td>1229800235</td>\n",
       "      <td>I know, wonder if USER is going to buy an apar...</td>\n",
       "      <td>pos</td>\n",
       "    </tr>\n",
       "  </tbody>\n",
       "</table>\n",
       "</div>"
      ],
      "text/plain": [
       "        tweet                                               text class\n",
       "0  1229448571                  some count sheep, you count cats    pos\n",
       "1  1230261573  We haven't been to Turning Stone in ages! Have...   pos\n",
       "2  1228861415                                           What up    pos\n",
       "3  1228489365                                          I'm good    pos\n",
       "4  1229800235  I know, wonder if USER is going to buy an apar...   pos"
      ]
     },
     "execution_count": 39,
     "metadata": {},
     "output_type": "execute_result"
    }
   ],
   "source": [
    "df.head()"
   ]
  },
  {
   "cell_type": "code",
   "execution_count": 37,
   "metadata": {},
   "outputs": [
    {
     "name": "stdout",
     "output_type": "stream",
     "text": [
      "shape: (39936, 3)\n",
      "\n",
      "Coluna: tweet\n",
      "  Número de linhas: 39936\n",
      "  Valores em branco: 0\n",
      "  Tipo de dados: int64\n",
      "\n",
      "Coluna: text\n",
      "  Número de linhas: 39936\n",
      "  Valores em branco: 235\n",
      "  Tipo de dados: object\n",
      "\n",
      "Coluna: class\n",
      "  Número de linhas: 39936\n",
      "  Valores em branco: 0\n",
      "  Tipo de dados: object\n",
      "\n"
     ]
    }
   ],
   "source": [
    "colunas = df.columns.tolist()\n",
    "\n",
    "print(f\"shape: {df.shape}\\n\")\n",
    "\n",
    "for coluna in df.columns:\n",
    "    num_linhas = df[coluna].shape[0]  \n",
    "    valores_em_branco = df[coluna].isnull().sum()  \n",
    "    tipo_de_dados = df[coluna].dtype  \n",
    "    \n",
    "    print(f\"Coluna: {coluna}\")\n",
    "    print(f\"  Número de linhas: {num_linhas}\")\n",
    "    print(f\"  Valores em branco: {valores_em_branco}\")\n",
    "    print(f\"  Tipo de dados: {tipo_de_dados}\\n\")\n",
    "    \n",
    "\n"
   ]
  },
  {
   "cell_type": "code",
   "execution_count": 40,
   "metadata": {},
   "outputs": [
    {
     "name": "stdout",
     "output_type": "stream",
     "text": [
      "class\n",
      "pos    33065\n",
      "neg     6871\n",
      "Name: count, dtype: int64\n"
     ]
    }
   ],
   "source": [
    "# Distribuição das Classes\n",
    "\n",
    "print(df['class'].value_counts())\n"
   ]
  }
 ],
 "metadata": {
  "kernelspec": {
   "display_name": "Python 3",
   "language": "python",
   "name": "python3"
  },
  "language_info": {
   "codemirror_mode": {
    "name": "ipython",
    "version": 3
   },
   "file_extension": ".py",
   "mimetype": "text/x-python",
   "name": "python",
   "nbconvert_exporter": "python",
   "pygments_lexer": "ipython3",
   "version": "3.10.11"
  }
 },
 "nbformat": 4,
 "nbformat_minor": 2
}
