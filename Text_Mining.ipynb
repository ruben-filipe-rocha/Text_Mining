{
 "cells": [
  {
   "cell_type": "code",
   "execution_count": 59,
   "metadata": {},
   "outputs": [],
   "source": [
    "import pandas as pd\n"
   ]
  },
  {
   "cell_type": "code",
   "execution_count": 60,
   "metadata": {},
   "outputs": [],
   "source": [
    "path = \"/Users/rubenfilipemartinsdarocha/Library/CloudStorage/GoogleDrive-rubenfilype@gmail.com/My Drive/Colab Notebooks/Data_Science/2.Semestre/01.Text_Mining/04.Trabalho/Datasets/Tweets_EN_sentiment_train.csv\"\n",
    "df = pd.read_csv(path)"
   ]
  },
  {
   "cell_type": "code",
   "execution_count": 61,
   "metadata": {},
   "outputs": [
    {
     "data": {
      "text/html": [
       "<div>\n",
       "<style scoped>\n",
       "    .dataframe tbody tr th:only-of-type {\n",
       "        vertical-align: middle;\n",
       "    }\n",
       "\n",
       "    .dataframe tbody tr th {\n",
       "        vertical-align: top;\n",
       "    }\n",
       "\n",
       "    .dataframe thead th {\n",
       "        text-align: right;\n",
       "    }\n",
       "</style>\n",
       "<table border=\"1\" class=\"dataframe\">\n",
       "  <thead>\n",
       "    <tr style=\"text-align: right;\">\n",
       "      <th></th>\n",
       "      <th>tweet</th>\n",
       "      <th>text</th>\n",
       "      <th>class</th>\n",
       "    </tr>\n",
       "  </thead>\n",
       "  <tbody>\n",
       "    <tr>\n",
       "      <th>0</th>\n",
       "      <td>1229448571</td>\n",
       "      <td>some count sheep, you count cats</td>\n",
       "      <td>pos</td>\n",
       "    </tr>\n",
       "    <tr>\n",
       "      <th>1</th>\n",
       "      <td>1230261573</td>\n",
       "      <td>We haven't been to Turning Stone in ages! Have...</td>\n",
       "      <td>pos</td>\n",
       "    </tr>\n",
       "    <tr>\n",
       "      <th>2</th>\n",
       "      <td>1228861415</td>\n",
       "      <td>What up</td>\n",
       "      <td>pos</td>\n",
       "    </tr>\n",
       "    <tr>\n",
       "      <th>3</th>\n",
       "      <td>1228489365</td>\n",
       "      <td>I'm good</td>\n",
       "      <td>pos</td>\n",
       "    </tr>\n",
       "    <tr>\n",
       "      <th>4</th>\n",
       "      <td>1229800235</td>\n",
       "      <td>I know, wonder if USER is going to buy an apar...</td>\n",
       "      <td>pos</td>\n",
       "    </tr>\n",
       "  </tbody>\n",
       "</table>\n",
       "</div>"
      ],
      "text/plain": [
       "        tweet                                               text class\n",
       "0  1229448571                  some count sheep, you count cats    pos\n",
       "1  1230261573  We haven't been to Turning Stone in ages! Have...   pos\n",
       "2  1228861415                                           What up    pos\n",
       "3  1228489365                                          I'm good    pos\n",
       "4  1229800235  I know, wonder if USER is going to buy an apar...   pos"
      ]
     },
     "execution_count": 61,
     "metadata": {},
     "output_type": "execute_result"
    }
   ],
   "source": [
    "df.head()"
   ]
  },
  {
   "cell_type": "code",
   "execution_count": 62,
   "metadata": {},
   "outputs": [
    {
     "name": "stdout",
     "output_type": "stream",
     "text": [
      "shape: (39936, 3)\n",
      "\n",
      "Coluna: tweet\n",
      "  Número de linhas: 39936\n",
      "  Valores em branco: 0\n",
      "  Tipo de dados: int64\n",
      "\n",
      "Coluna: text\n",
      "  Número de linhas: 39936\n",
      "  Valores em branco: 235\n",
      "  Tipo de dados: object\n",
      "\n",
      "Coluna: class\n",
      "  Número de linhas: 39936\n",
      "  Valores em branco: 0\n",
      "  Tipo de dados: object\n",
      "\n"
     ]
    }
   ],
   "source": [
    "colunas = df.columns.tolist()\n",
    "\n",
    "print(f\"shape: {df.shape}\\n\")\n",
    "\n",
    "for coluna in df.columns:\n",
    "    num_linhas = df[coluna].shape[0]  \n",
    "    valores_em_branco = df[coluna].isnull().sum()  \n",
    "    tipo_de_dados = df[coluna].dtype  \n",
    "    \n",
    "    print(f\"Coluna: {coluna}\")\n",
    "    print(f\"  Número de linhas: {num_linhas}\")\n",
    "    print(f\"  Valores em branco: {valores_em_branco}\")\n",
    "    print(f\"  Tipo de dados: {tipo_de_dados}\\n\")\n",
    "    \n",
    "\n"
   ]
  },
  {
   "cell_type": "code",
   "execution_count": 63,
   "metadata": {},
   "outputs": [
    {
     "name": "stdout",
     "output_type": "stream",
     "text": [
      "class\n",
      "pos    33065\n",
      "neg     6871\n",
      "Name: count, dtype: int64\n"
     ]
    }
   ],
   "source": [
    "# Distribuição das Classes\n",
    "\n",
    "print(df['class'].value_counts())\n"
   ]
  },
  {
   "cell_type": "code",
   "execution_count": 64,
   "metadata": {},
   "outputs": [
    {
     "data": {
      "text/html": [
       "<div>\n",
       "<style scoped>\n",
       "    .dataframe tbody tr th:only-of-type {\n",
       "        vertical-align: middle;\n",
       "    }\n",
       "\n",
       "    .dataframe tbody tr th {\n",
       "        vertical-align: top;\n",
       "    }\n",
       "\n",
       "    .dataframe thead th {\n",
       "        text-align: right;\n",
       "    }\n",
       "</style>\n",
       "<table border=\"1\" class=\"dataframe\">\n",
       "  <thead>\n",
       "    <tr style=\"text-align: right;\">\n",
       "      <th></th>\n",
       "      <th>tweet</th>\n",
       "      <th>text</th>\n",
       "      <th>class</th>\n",
       "    </tr>\n",
       "  </thead>\n",
       "  <tbody>\n",
       "    <tr>\n",
       "      <th>468</th>\n",
       "      <td>1229613877</td>\n",
       "      <td>NaN</td>\n",
       "      <td>neg</td>\n",
       "    </tr>\n",
       "    <tr>\n",
       "      <th>620</th>\n",
       "      <td>1229815502</td>\n",
       "      <td>NaN</td>\n",
       "      <td>pos</td>\n",
       "    </tr>\n",
       "    <tr>\n",
       "      <th>733</th>\n",
       "      <td>1228500852</td>\n",
       "      <td>NaN</td>\n",
       "      <td>pos</td>\n",
       "    </tr>\n",
       "    <tr>\n",
       "      <th>879</th>\n",
       "      <td>1229218078</td>\n",
       "      <td>NaN</td>\n",
       "      <td>neg</td>\n",
       "    </tr>\n",
       "    <tr>\n",
       "      <th>1060</th>\n",
       "      <td>1230727494</td>\n",
       "      <td>NaN</td>\n",
       "      <td>pos</td>\n",
       "    </tr>\n",
       "    <tr>\n",
       "      <th>...</th>\n",
       "      <td>...</td>\n",
       "      <td>...</td>\n",
       "      <td>...</td>\n",
       "    </tr>\n",
       "    <tr>\n",
       "      <th>39158</th>\n",
       "      <td>1229309579</td>\n",
       "      <td>NaN</td>\n",
       "      <td>neg</td>\n",
       "    </tr>\n",
       "    <tr>\n",
       "      <th>39227</th>\n",
       "      <td>1229027568</td>\n",
       "      <td>NaN</td>\n",
       "      <td>pos</td>\n",
       "    </tr>\n",
       "    <tr>\n",
       "      <th>39288</th>\n",
       "      <td>1224601475</td>\n",
       "      <td>NaN</td>\n",
       "      <td>neg</td>\n",
       "    </tr>\n",
       "    <tr>\n",
       "      <th>39362</th>\n",
       "      <td>1230226128</td>\n",
       "      <td>NaN</td>\n",
       "      <td>neg</td>\n",
       "    </tr>\n",
       "    <tr>\n",
       "      <th>39877</th>\n",
       "      <td>1230697072</td>\n",
       "      <td>NaN</td>\n",
       "      <td>neg</td>\n",
       "    </tr>\n",
       "  </tbody>\n",
       "</table>\n",
       "<p>235 rows × 3 columns</p>\n",
       "</div>"
      ],
      "text/plain": [
       "            tweet text class\n",
       "468    1229613877  NaN   neg\n",
       "620    1229815502  NaN   pos\n",
       "733    1228500852  NaN   pos\n",
       "879    1229218078  NaN   neg\n",
       "1060   1230727494  NaN   pos\n",
       "...           ...  ...   ...\n",
       "39158  1229309579  NaN   neg\n",
       "39227  1229027568  NaN   pos\n",
       "39288  1224601475  NaN   neg\n",
       "39362  1230226128  NaN   neg\n",
       "39877  1230697072  NaN   neg\n",
       "\n",
       "[235 rows x 3 columns]"
      ]
     },
     "execution_count": 64,
     "metadata": {},
     "output_type": "execute_result"
    }
   ],
   "source": [
    "valores_ausentes = df[df.isnull().any(axis=1)]\n",
    "valores_ausentes"
   ]
  },
  {
   "cell_type": "code",
   "execution_count": 68,
   "metadata": {},
   "outputs": [
    {
     "data": {
      "text/plain": [
       "235"
      ]
     },
     "execution_count": 68,
     "metadata": {},
     "output_type": "execute_result"
    }
   ],
   "source": [
    "num_valores_nan = df['text'].isnull().sum()\n",
    "num_valores_nan"
   ]
  },
  {
   "cell_type": "code",
   "execution_count": 70,
   "metadata": {},
   "outputs": [
    {
     "data": {
      "text/html": [
       "<div>\n",
       "<style scoped>\n",
       "    .dataframe tbody tr th:only-of-type {\n",
       "        vertical-align: middle;\n",
       "    }\n",
       "\n",
       "    .dataframe tbody tr th {\n",
       "        vertical-align: top;\n",
       "    }\n",
       "\n",
       "    .dataframe thead th {\n",
       "        text-align: right;\n",
       "    }\n",
       "</style>\n",
       "<table border=\"1\" class=\"dataframe\">\n",
       "  <thead>\n",
       "    <tr style=\"text-align: right;\">\n",
       "      <th></th>\n",
       "      <th>tweet</th>\n",
       "      <th>text</th>\n",
       "      <th>class</th>\n",
       "    </tr>\n",
       "  </thead>\n",
       "  <tbody>\n",
       "    <tr>\n",
       "      <th>0</th>\n",
       "      <td>1229448571</td>\n",
       "      <td>some count sheep, you count cats</td>\n",
       "      <td>pos</td>\n",
       "    </tr>\n",
       "    <tr>\n",
       "      <th>1</th>\n",
       "      <td>1230261573</td>\n",
       "      <td>We haven't been to Turning Stone in ages! Have...</td>\n",
       "      <td>pos</td>\n",
       "    </tr>\n",
       "    <tr>\n",
       "      <th>2</th>\n",
       "      <td>1228861415</td>\n",
       "      <td>What up</td>\n",
       "      <td>pos</td>\n",
       "    </tr>\n",
       "    <tr>\n",
       "      <th>3</th>\n",
       "      <td>1228489365</td>\n",
       "      <td>I'm good</td>\n",
       "      <td>pos</td>\n",
       "    </tr>\n",
       "    <tr>\n",
       "      <th>4</th>\n",
       "      <td>1229800235</td>\n",
       "      <td>I know, wonder if USER is going to buy an apar...</td>\n",
       "      <td>pos</td>\n",
       "    </tr>\n",
       "    <tr>\n",
       "      <th>...</th>\n",
       "      <td>...</td>\n",
       "      <td>...</td>\n",
       "      <td>...</td>\n",
       "    </tr>\n",
       "    <tr>\n",
       "      <th>39931</th>\n",
       "      <td>1230130325</td>\n",
       "      <td>LOL- F, please</td>\n",
       "      <td>pos</td>\n",
       "    </tr>\n",
       "    <tr>\n",
       "      <th>39932</th>\n",
       "      <td>1229250927</td>\n",
       "      <td>I wish I could do that too! But it ain't happe...</td>\n",
       "      <td>neg</td>\n",
       "    </tr>\n",
       "    <tr>\n",
       "      <th>39933</th>\n",
       "      <td>1228710021</td>\n",
       "      <td>I &amp;lt;3 my boyfriend's family.</td>\n",
       "      <td>pos</td>\n",
       "    </tr>\n",
       "    <tr>\n",
       "      <th>39934</th>\n",
       "      <td>1228100681</td>\n",
       "      <td>404</td>\n",
       "      <td>neg</td>\n",
       "    </tr>\n",
       "    <tr>\n",
       "      <th>39935</th>\n",
       "      <td>1229022675</td>\n",
       "      <td>RT USER ok i can still tweet but admit i am a ...</td>\n",
       "      <td>pos</td>\n",
       "    </tr>\n",
       "  </tbody>\n",
       "</table>\n",
       "<p>39701 rows × 3 columns</p>\n",
       "</div>"
      ],
      "text/plain": [
       "            tweet                                               text class\n",
       "0      1229448571                  some count sheep, you count cats    pos\n",
       "1      1230261573  We haven't been to Turning Stone in ages! Have...   pos\n",
       "2      1228861415                                           What up    pos\n",
       "3      1228489365                                          I'm good    pos\n",
       "4      1229800235  I know, wonder if USER is going to buy an apar...   pos\n",
       "...           ...                                                ...   ...\n",
       "39931  1230130325                                    LOL- F, please    pos\n",
       "39932  1229250927  I wish I could do that too! But it ain't happe...   neg\n",
       "39933  1228710021                    I &lt;3 my boyfriend's family.    pos\n",
       "39934  1228100681                                               404    neg\n",
       "39935  1229022675  RT USER ok i can still tweet but admit i am a ...   pos\n",
       "\n",
       "[39701 rows x 3 columns]"
      ]
     },
     "execution_count": 70,
     "metadata": {},
     "output_type": "execute_result"
    }
   ],
   "source": [
    "df_limpo = df.dropna(subset=['text'])\n",
    "df_limpo"
   ]
  },
  {
   "cell_type": "code",
   "execution_count": 78,
   "metadata": {},
   "outputs": [
    {
     "data": {
      "text/html": [
       "<div>\n",
       "<style scoped>\n",
       "    .dataframe tbody tr th:only-of-type {\n",
       "        vertical-align: middle;\n",
       "    }\n",
       "\n",
       "    .dataframe tbody tr th {\n",
       "        vertical-align: top;\n",
       "    }\n",
       "\n",
       "    .dataframe thead th {\n",
       "        text-align: right;\n",
       "    }\n",
       "</style>\n",
       "<table border=\"1\" class=\"dataframe\">\n",
       "  <thead>\n",
       "    <tr style=\"text-align: right;\">\n",
       "      <th></th>\n",
       "      <th>tweet</th>\n",
       "      <th>text</th>\n",
       "      <th>class</th>\n",
       "    </tr>\n",
       "  </thead>\n",
       "  <tbody>\n",
       "    <tr>\n",
       "      <th>35339</th>\n",
       "      <td>1229561964</td>\n",
       "      <td>4</td>\n",
       "      <td>pos</td>\n",
       "    </tr>\n",
       "    <tr>\n",
       "      <th>39934</th>\n",
       "      <td>1228100681</td>\n",
       "      <td>404</td>\n",
       "      <td>neg</td>\n",
       "    </tr>\n",
       "  </tbody>\n",
       "</table>\n",
       "</div>"
      ],
      "text/plain": [
       "            tweet text class\n",
       "35339  1229561964    4   pos\n",
       "39934  1228100681  404   neg"
      ]
     },
     "execution_count": 78,
     "metadata": {},
     "output_type": "execute_result"
    }
   ],
   "source": [
    "df['text'] = df['text'].astype(str)\n",
    "df['text'] = df['text'].str.strip()\n",
    "\n",
    "df_apenas_numeros = df[df['text'].str.match('^\\d+$')]\n",
    "\n",
    "df_apenas_numeros"
   ]
  }
 ],
 "metadata": {
  "kernelspec": {
   "display_name": "Python 3",
   "language": "python",
   "name": "python3"
  },
  "language_info": {
   "codemirror_mode": {
    "name": "ipython",
    "version": 3
   },
   "file_extension": ".py",
   "mimetype": "text/x-python",
   "name": "python",
   "nbconvert_exporter": "python",
   "pygments_lexer": "ipython3",
   "version": "3.10.11"
  }
 },
 "nbformat": 4,
 "nbformat_minor": 2
}
